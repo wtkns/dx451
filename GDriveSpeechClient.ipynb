{
  "nbformat": 4,
  "nbformat_minor": 0,
  "metadata": {
    "colab": {
      "name": "GDriveSpeechClient.ipynb",
      "provenance": [],
      "collapsed_sections": [
        "MaGVCjb9mOUt",
        "NVVfylmq0U2d",
        "caWWD6L_J0Ue"
      ],
      "private_outputs": true,
      "mount_file_id": "1npWnEkPx8Mu7YW2FqIuwnSqhBh9Meaxl",
      "authorship_tag": "ABX9TyMP+wtK/2gFVMq8h5+Z2t99",
      "include_colab_link": true
    },
    "kernelspec": {
      "name": "python3",
      "display_name": "Python 3"
    },
    "language_info": {
      "name": "python"
    }
  },
  "cells": [
    {
      "cell_type": "markdown",
      "metadata": {
        "id": "view-in-github",
        "colab_type": "text"
      },
      "source": [
        "<a href=\"https://colab.research.google.com/github/wtkns/dx451/blob/main/GDriveSpeechClient.ipynb\" target=\"_parent\"><img src=\"https://colab.research.google.com/assets/colab-badge.svg\" alt=\"Open In Colab\"/></a>"
      ]
    },
    {
      "cell_type": "markdown",
      "source": [
        "## Project Configuration"
      ],
      "metadata": {
        "id": "ORyqCFnsnN_B"
      }
    },
    {
      "cell_type": "markdown",
      "source": [
        "### you'll need to restart after running the next one, so run it first"
      ],
      "metadata": {
        "id": "qHPJXaxeEomI"
      }
    },
    {
      "cell_type": "code",
      "execution_count": null,
      "metadata": {
        "id": "W-B1eBxcgDJw"
      },
      "outputs": [],
      "source": [
        "#Speech-to-text\n",
        "!pip install --upgrade google-cloud-speech\n",
        "\n",
        "#Text-to-speech\n",
        "!pip install gTTS"
      ]
    },
    {
      "cell_type": "markdown",
      "source": [
        "### project settings"
      ],
      "metadata": {
        "id": "AifI5GgYnYMd"
      }
    },
    {
      "cell_type": "code",
      "source": [
        "#@title ##project settings\n",
        "\n",
        "#@markdown ###Google Cloud Project ID\n",
        "#@markdown * Should have 'Cloud Speech API' activated\n",
        "project_id = 'wtkns-214817' #@param {type:\"string\"}\n",
        "bucket_name = 'wtkns-store' #@param {type:\"string\"}\n",
        "\n",
        "#@markdown ###Google Cloud Service Account name. \n",
        "#@markdown * Should have 'Cloud Speech Client' permissions\n",
        "#@markdown * will be of _username_@_projectname_.iam.gserviceaccount.com\n",
        "service_account_user_name = 'speechtt' #@param {type:\"string\"}\n",
        "\n",
        "#@markdown ###this should be the folder where you want to store files \n",
        "content_name = 'sample' #@param {type:\"string\"}\n",
        "\n",
        "project_path = \"/content/drive/MyDrive/DX451/Rules/\" + content_name + \"/\"\n",
        "input_file = project_path + content_name + \".mkv\"\n",
        "output_file = project_path + content_name + \".output.mp4\"\n",
        "output_width = 800\n",
        "output_height = 600"
      ],
      "metadata": {
        "id": "ak8YZUNeGx-y"
      },
      "execution_count": null,
      "outputs": []
    },
    {
      "cell_type": "markdown",
      "source": [
        "## Set up source files"
      ],
      "metadata": {
        "id": "Frm2glyMmeOU"
      }
    },
    {
      "cell_type": "markdown",
      "source": [
        "### Connect to the google drive to store files"
      ],
      "metadata": {
        "id": "iBz9YOpO3XhL"
      }
    },
    {
      "cell_type": "code",
      "source": [
        "from google.colab import drive\n",
        "drive.mount('/content/drive')\n",
        "\n",
        "import os\n",
        "if not os.path.isdir(project_path):\n",
        "  os.makedirs(project_path)\n",
        "os.chdir(project_path)\n",
        "os.getcwd()"
      ],
      "metadata": {
        "id": "LfhZz850EO1w"
      },
      "execution_count": null,
      "outputs": []
    },
    {
      "cell_type": "markdown",
      "source": [
        "### Choose a file to upload or record a new one\n",
        "_upload requires 3rd-Party Cookies enabled in the browser_"
      ],
      "metadata": {
        "id": "ro_jgNOlOSHG"
      }
    },
    {
      "cell_type": "code",
      "source": [
        "# for testing\n",
        "\n",
        "if os.path.isfile(input_file):\n",
        "  print(\"found:\" + input_file)\n",
        "else: print(\"NOT FOUND!: \" + input_file)\n",
        "\n",
        "# from google.colab import files\n",
        "# uploaded = files.upload()\n",
        "\n",
        "# for fn in uploaded.keys():\n",
        "#   print('User uploaded file \"{name}\" with length {length} bytes'.format(\n",
        "#       name=fn, length=len(uploaded[fn])))"
      ],
      "metadata": {
        "id": "1XP2tp6NMjpD"
      },
      "execution_count": null,
      "outputs": []
    },
    {
      "cell_type": "markdown",
      "source": [
        "### Generate normalized video file"
      ],
      "metadata": {
        "id": "ft4Dr5viVjwQ"
      }
    },
    {
      "cell_type": "code",
      "source": [
        "def change_file_extension(input_file_path, new_extension):\n",
        "  filename, file_extension = os.path.splitext(input_file_path)\n",
        "  new_file_path = filename.split('.')[0] + new_extension\n",
        "  return new_file_path\n"
      ],
      "metadata": {
        "id": "R__z-oi2AyE-"
      },
      "execution_count": null,
      "outputs": []
    },
    {
      "cell_type": "code",
      "source": [
        "def execute_ffmpeg(command_string):\n",
        "  result = subprocess.Popen(command_string, stdout = subprocess.PIPE, stderr = subprocess.STDOUT, shell=True)\n",
        "  print (result.communicate())"
      ],
      "metadata": {
        "id": "a11dpwL4IUON"
      },
      "execution_count": null,
      "outputs": []
    },
    {
      "cell_type": "code",
      "source": [
        "def normalize_file(input_file_path, w, h):\n",
        "  print(\"generating normalized video\")\n",
        "\n",
        "  output_file_path = change_file_extension(input_file_path, \".normal.mp4\")\n",
        "\n",
        "  ffmpeg_cmd = \"ffmpeg -y -i \" \n",
        "  ffmpeg_cmd += input_file_path\n",
        "  ffmpeg_cmd += ' -c:v libx264 -vf \"scale=w=' + str(w) +':h=' + str(h)\n",
        "  ffmpeg_cmd += ':force_original_aspect_ratio=1, pad=' + str(w) + ':' + str(h) + ':(ow-iw)/2:(oh-ih)/2\" ' \n",
        "  ffmpeg_cmd += output_file_path\n",
        "  \n",
        "  execute_ffmpeg(ffmpeg_cmd)\n",
        "\n",
        "  print(output_file_path)\n",
        "\n",
        "  return output_file_path"
      ],
      "metadata": {
        "id": "7Jo2fnOH3Uij"
      },
      "execution_count": null,
      "outputs": []
    },
    {
      "cell_type": "code",
      "source": [
        "# for running ffmpeg\n",
        "import subprocess\n",
        "\n",
        "normal_file_path = normalize_file(input_file, output_width, output_height)"
      ],
      "metadata": {
        "id": "lK6uf3fLAe7w"
      },
      "execution_count": null,
      "outputs": []
    },
    {
      "cell_type": "markdown",
      "source": [
        "### Generate audio file"
      ],
      "metadata": {
        "id": "sP--7h5IVu1i"
      }
    },
    {
      "cell_type": "code",
      "source": [
        "def generate_audio_file(input_file_path):\n",
        "  print(\"generating audio file\")\n",
        "\n",
        "  output_audio_file_path = change_file_extension(input_file_path, \".wav\")\n",
        "\n",
        "  ffmpeg_cmd = \"ffmpeg -y -i \" \n",
        "  ffmpeg_cmd += input_file_path\n",
        "  ffmpeg_cmd += ' -vn -ac 1 -ar 16k -acodec pcm_s16le '\n",
        "  ffmpeg_cmd += output_audio_file_path\n",
        "  \n",
        "  execute_ffmpeg(ffmpeg_cmd)\n",
        "  \n",
        "  print(output_audio_file_path)\n",
        "  \n",
        "  return output_audio_file_path"
      ],
      "metadata": {
        "id": "fD7HAu-9-XJ9"
      },
      "execution_count": null,
      "outputs": []
    },
    {
      "cell_type": "code",
      "source": [
        "audio_file_path = generate_audio_file(normal_file_path)"
      ],
      "metadata": {
        "id": "9w6_E8-CDNz1"
      },
      "execution_count": null,
      "outputs": []
    },
    {
      "cell_type": "markdown",
      "source": [
        "### Normalize audio file levels:\n",
        "\n",
        "https://bytesandbones.wordpress.com/2017/03/16/audio-nomalization-with-ffmpeg-using-loudnorm-ebur128-filter/"
      ],
      "metadata": {
        "id": "qdgjPDEiJTOT"
      }
    },
    {
      "cell_type": "code",
      "source": [
        "def analyze_audio_file(input_file_path):\n",
        "  print(\"analyzing audio from \" + input_file_path)\n",
        "\n",
        "  ffmpeg_analysis = 'ffmpeg -i '\n",
        "  ffmpeg_analysis += input_file_path\n",
        "  ffmpeg_analysis += ' -af loudnorm=I=-16:TP=-1.5:LRA=11:print_format=summary -f null -'\n",
        "  print(ffmpeg_analysis)\n",
        "\n",
        "  execute_ffmpeg(ffmpeg_analysis)\n",
        "  print(\"analysis complete\")\n",
        "\n",
        "  measured_i = '-44.3'\n",
        "  measured_TP = '-24.9'\n",
        "  measured_LRA = '8.7'\n",
        "  measured_thresh = '-57.2'\n",
        "  offset = '-0.7'\n",
        "\n",
        "  analysis_list = [measured_i, measured_TP, measured_LRA, measured_thresh, offset]\n",
        "    \n",
        "  print(analysis_list)  \n",
        "  return analysis_list"
      ],
      "metadata": {
        "id": "serJQ1ViRvsx"
      },
      "execution_count": null,
      "outputs": []
    },
    {
      "cell_type": "code",
      "source": [
        "def normalize_audio_file(input_file_path, analysis_results_list):\n",
        "  print(\"generating normalized audio from \" + input_file_path)\n",
        "\n",
        "  output_audio_file_path = change_file_extension(input_file_path, \".normal.wav\")\n",
        "  print(output_audio_file_path)\n",
        "  \n",
        "  measured_i = analysis_results_list[0]\n",
        "  measured_TP = analysis_results_list[1]\n",
        "  measured_LRA = analysis_results_list[2]\n",
        "  measured_thresh = analysis_results_list[3]\n",
        "  offset = analysis_results_list[4]\n",
        "\n",
        "  ffmpeg_adjustments = 'ffmpeg -y -i '\n",
        "  ffmpeg_adjustments += audio_file_path\n",
        "  ffmpeg_adjustments += ' -af loudnorm=I=-16:TP=-1.5:LRA=11:'\n",
        "  ffmpeg_adjustments += 'measured_I=' + str(measured_i)\n",
        "  ffmpeg_adjustments += ':measured_TP=' + str(measured_i)\n",
        "  ffmpeg_adjustments += ':measured_LRA=' + str(measured_LRA)\n",
        "  ffmpeg_adjustments += ':measured_thresh=' + str(measured_thresh)\n",
        "  ffmpeg_adjustments += ':offset=' + str(offset)\n",
        "  ffmpeg_adjustments += ':linear=true:print_format=summary '\n",
        "  ffmpeg_adjustments += output_audio_file_path\n",
        "  \n",
        "  print(ffmpeg_adjustments)\n",
        "  execute_ffmpeg(ffmpeg_adjustments)\n",
        "  \n",
        "  # print(output_audio_file_path)  \n",
        "  return output_audio_file_path"
      ],
      "metadata": {
        "id": "U7aIxCpfYUR-"
      },
      "execution_count": null,
      "outputs": []
    },
    {
      "cell_type": "code",
      "source": [
        "analysis_results_list = analyze_audio_file(audio_file_path)"
      ],
      "metadata": {
        "id": "XQbCZKKFY410"
      },
      "execution_count": null,
      "outputs": []
    },
    {
      "cell_type": "code",
      "source": [
        "normal_audio_file_path = normalize_audio_file(audio_file_path, analysis_results_list)"
      ],
      "metadata": {
        "id": "GSoLd98rEet3"
      },
      "execution_count": null,
      "outputs": []
    },
    {
      "cell_type": "markdown",
      "source": [
        "# convert audio to text"
      ],
      "metadata": {
        "id": "RQ0JqSvCkJUB"
      }
    },
    {
      "cell_type": "markdown",
      "source": [
        "## Get a key file for communicating with Speech-to-text and cloud storage"
      ],
      "metadata": {
        "id": "p_egMeFy9SDe"
      }
    },
    {
      "cell_type": "code",
      "source": [
        "key_file_path = \"/content/drive/MyDrive/gcp-keys/\"\n",
        "service_account_keyfile = key_file_path + service_account_user_name + \".json\"\n",
        "\n",
        "if not os.path.isfile(service_account_keyfile):\n",
        "  print ( \"generating keyfile (limited number available, delete in console if necessary)\" )\n",
        "\n",
        "  # Authenticate project user\n",
        "  from google.colab import auth\n",
        "  auth.authenticate_user()\n",
        "\n",
        "  # create keyfile\n",
        "  !gcloud config set project {project_id}\n",
        "  iam_account = service_account_user_name + \"@\" + project_id + \".iam.gserviceaccount.com\"\n",
        "  !gcloud iam service-accounts keys create {service_account_keyfile} --iam-account={iam_account}\n",
        "\n",
        "else:\n",
        "  print(\"keyfile found\")\n"
      ],
      "metadata": {
        "id": "UkIcjzv765au"
      },
      "execution_count": null,
      "outputs": []
    },
    {
      "cell_type": "code",
      "source": [
        "# Imports the Google Cloud client libraries\n",
        "from google.cloud import speech\n",
        "\n",
        "## for reading and writing google cloud storage\n",
        "from google.cloud import storage\n",
        "\n",
        "# for processing \n",
        "import json\n",
        "\n",
        "!gcloud config set project {project_id}\n",
        "\n",
        "# I DONT THINK I SHOULD HAVE TO DO THIS:\n",
        "# Authenticate project user\n",
        "from google.colab import auth\n",
        "auth.authenticate_user()\n",
        "\n",
        "\n",
        "# Instantiates clients\n",
        "speech_client = speech.SpeechClient.from_service_account_json(service_account_keyfile)\n",
        "storage_client = storage.Client.from_service_account_json(service_account_keyfile)"
      ],
      "metadata": {
        "id": "L2jzmOADipUx"
      },
      "execution_count": null,
      "outputs": []
    },
    {
      "cell_type": "markdown",
      "source": [
        "## transfer file to gcs"
      ],
      "metadata": {
        "id": "MaGVCjb9mOUt"
      }
    },
    {
      "cell_type": "code",
      "source": [
        "def upload_to_gcs(input_file_path):\n",
        "  gcs_audio_uri=\"gs://\" + bucket_name + \"/\" + content_name + \"/\"\n",
        "  !gsutil cp {input_file_path} {gcs_audio_uri}\n",
        "  gcs_audio_uri += os.path.basename(input_file_path)\n",
        "\n",
        "  return gcs_audio_uri\n"
      ],
      "metadata": {
        "id": "Vib3uUGHkHc7"
      },
      "execution_count": null,
      "outputs": []
    },
    {
      "cell_type": "code",
      "source": [
        "gcs_audio_uri = upload_to_gcs(normal_audio_file_path)\n",
        "print(gcs_audio_uri)"
      ],
      "metadata": {
        "id": "MclSRESvn1I-"
      },
      "execution_count": null,
      "outputs": []
    },
    {
      "cell_type": "markdown",
      "source": [
        "## pass URI to STT, get dict"
      ],
      "metadata": {
        "id": "RlnmsovDFbvC"
      }
    },
    {
      "cell_type": "code",
      "source": [
        "def convert_to_text(gcs_audio_uri):\n",
        "  gcs_text_uri = change_file_extension(gcs_audio_uri, '.json')\n",
        "   \n",
        "  audio = speech.RecognitionAudio(\n",
        "    uri=gcs_audio_uri\n",
        "    )\n",
        "\n",
        "  config = speech.RecognitionConfig(\n",
        "      encoding=speech.RecognitionConfig.AudioEncoding.LINEAR16,\n",
        "      sample_rate_hertz=16000,\n",
        "      language_code=\"en-US\",\n",
        "      enable_word_time_offsets=True,\n",
        "      )\n",
        "\n",
        "  output_config = speech.TranscriptOutputConfig(\n",
        "      gcs_uri=gcs_text_uri\n",
        "      )\n",
        "\n",
        "  request = speech.LongRunningRecognizeRequest(\n",
        "      audio=audio, config=config, output_config=output_config\n",
        "      )\n",
        "\n",
        "  # asynchronous request\n",
        "  # https://cloud.google.com/speech-to-text/docs/basics?authuser=0#async-responses\n",
        "  # the asynchronous request will initiate a \n",
        "  # Long Running Operation (of type Operation) \n",
        "  # and return this operation to the callee immediately.\n",
        "\n",
        "  operation = speech_client.long_running_recognize(request=request)\n",
        "\n",
        "  print(\"Waiting for operation to complete...\")\n",
        "  result = operation.result(timeout=120)\n",
        "  print(\"Completed.\")\n",
        "\n",
        "  result_as_dict =  json.loads(type(result).to_json(result))\n",
        "  \n",
        "  return result_as_dict\n"
      ],
      "metadata": {
        "id": "GEpqAtwGcYL6"
      },
      "execution_count": null,
      "outputs": []
    },
    {
      "cell_type": "markdown",
      "source": [
        "## Submit request to Speech-to-Text"
      ],
      "metadata": {
        "id": "pNwn-uAewjDB"
      }
    },
    {
      "cell_type": "code",
      "source": [
        "response_dict = convert_to_text(gcs_audio_uri)"
      ],
      "metadata": {
        "id": "akyMqK4Gweqo"
      },
      "execution_count": null,
      "outputs": []
    },
    {
      "cell_type": "markdown",
      "source": [
        "# Process text result"
      ],
      "metadata": {
        "id": "p6RTVI7mQBHv"
      }
    },
    {
      "cell_type": "markdown",
      "source": [
        "## Concatenate results"
      ],
      "metadata": {
        "id": "NVVfylmq0U2d"
      }
    },
    {
      "cell_type": "code",
      "source": [
        "from decimal import Decimal\n",
        "\n",
        "def remove_suffix(input_string, suffix):\n",
        "    if suffix and input_string.endswith(suffix):\n",
        "        return input_string[:-len(suffix)]\n",
        "    return input_string\n",
        "\n",
        "def convert_word(word):\n",
        "\n",
        "  start = round(Decimal(remove_suffix(word['startTime'],'s')),1)\n",
        "  end = round(Decimal(remove_suffix(word['endTime'],'s')),1)\n",
        "  dur = end - start\n",
        "\n",
        "  clean_word = {}\n",
        "  clean_word['word'] = word['word']\n",
        "  clean_word['start'] = str(start)\n",
        "  clean_word['duration'] = str(dur)\n",
        "\n",
        "  return clean_word"
      ],
      "metadata": {
        "id": "77P1XWYWP3VX"
      },
      "execution_count": null,
      "outputs": []
    },
    {
      "cell_type": "code",
      "source": [
        "full_transcript = \"\"\n",
        "word_list = []\n",
        "\n",
        "# Each result is for a consecutive portion of the audio. Iterate through\n",
        "# them to get the transcripts for the entire audio file.\n",
        "\n",
        "# concatenate results\n",
        "for result in response_dict['results']:\n",
        "  full_transcript += result['alternatives'][0]['transcript'] + \" \"\n",
        "  for word in result['alternatives'][0]['words']:\n",
        "    word_list.append(convert_word(word))\n",
        "  \n",
        "print (\"\\ntranscript:\")\n",
        "print(full_transcript)\n",
        "print(word_list)\n"
      ],
      "metadata": {
        "id": "wbYq7_NAKiCI"
      },
      "execution_count": null,
      "outputs": []
    },
    {
      "cell_type": "code",
      "source": [
        "def sortfunc(word): \n",
        "  return word['word']\n",
        "\n",
        "alphabetical_list = word_list.copy()\n",
        "alphabetical_list.sort(key=sortfunc)"
      ],
      "metadata": {
        "id": "GkPRx827MUJG"
      },
      "execution_count": null,
      "outputs": []
    },
    {
      "cell_type": "markdown",
      "source": [
        "# reassemble with ffmpeg"
      ],
      "metadata": {
        "id": "3_HpFTZnKgK8"
      }
    },
    {
      "cell_type": "code",
      "source": [
        "def get_ffmpeg_input(file_name, word, easing):\n",
        "\n",
        "  padded_start = round(Decimal(word['start']) - Decimal(easing),2) \n",
        "  padded_duration = round(Decimal(word['duration']) + (2Decimal(easing),2) \n",
        "\n",
        "  ffmpeg_input = \" -ss \"\n",
        "  ffmpeg_input += str(padded_start)\n",
        "  ffmpeg_input += \" -t \"\n",
        "  ffmpeg_input += str(padded_duration)\n",
        "  ffmpeg_input += \" -i \"\n",
        "  ffmpeg_input += file_name\n",
        "\n",
        "  return (ffmpeg_input)\n",
        "\n",
        "def get_ffmpeg_filter(filter_list):\n",
        "  ffmpeg_filter = ' -filter_complex \"'\n",
        "\n",
        "  for x in range (len(filter_list)):\n",
        "     ffmpeg_filter += \"[\" + str(x) + \":0][\" + str(x) + \":1]\"\n",
        "\n",
        "  ffmpeg_filter += ' concat=n=' + str(len(filter_list)) + ':v=1:a=1 [v] [a]\"'\n",
        "  ffmpeg_filter += ' -map \"[v]\" -map \"[a]\" '  \n",
        "\n",
        "  return ffmpeg_filter  \n",
        "\n",
        "ffmpeg_cmd = \"ffmpeg -y\"\n",
        "\n",
        "for word in alphabetical_list:\n",
        "  ffmpeg_cmd += get_ffmpeg_input(normal_file_path, word, 0.1)\n",
        "\n",
        "ffmpeg_cmd += get_ffmpeg_filter(alphabetical_list)\n",
        "\n",
        "ffmpeg_cmd += output_file\n",
        "\n",
        "print(ffmpeg_cmd)\n",
        "\n",
        "for word in alphabetical_list:\n",
        "  print(word['word'])\n",
        "\n",
        "execute_ffmpeg(ffmpeg_cmd)\n",
        "\n",
        "# words.sort(key=get_word)\n",
        "\n",
        "# input_video = \"gold-watch.mp4\"\n",
        "# output_video = input_video.replace('.mp4', '-sorted.mp4')\n",
        "\n",
        "# ffmpeg_filter = \" -filter_complex \"\n",
        "\n",
        "# num_clips = 10\n",
        "\n",
        "# # for word in words:\n",
        "# for x in range(0, len(words)): \n",
        "#   ffmpeg_cmd = ffmpeg_cmd + get_ffmpeg_token(words[x])\n",
        "#   ffmpeg_filter = ffmpeg_filter + \"[\"+str(x)+\":0][\"+str(x)+\":1]\"\n",
        "\n",
        "\n",
        "\n",
        "# print (ffmpeg_cmd + ffmpeg_filter + '\"concat=n='+str(len(words))+':v=1:a=1[outv][outa]\" -map [outv] -map [outa] ' + output_video)\n"
      ],
      "metadata": {
        "id": "v50TksDjKm-m"
      },
      "execution_count": null,
      "outputs": []
    },
    {
      "cell_type": "code",
      "source": [
        "!ffmpeg -y -ss 1.9 -t 0.1 -i /content/drive/MyDrive/DX451/Rules/sample/sample.normal.mp4 -ss 7.0 -t 1.1 -i /content/drive/MyDrive/DX451/Rules/sample/sample.normal.mp4 -ss 1.7 -t 0.2 -i /content/drive/MyDrive/DX451/Rules/sample/sample.normal.mp4 -ss 3.3 -t 0.8 -i /content/drive/MyDrive/DX451/Rules/sample/sample.normal.mp4 -ss 2.4 -t 0.9 -i /content/drive/MyDrive/DX451/Rules/sample/sample.normal.mp4 -ss 2.0 -t 0.4 -i /content/drive/MyDrive/DX451/Rules/sample/sample.normal.mp4 -ss 8.1 -t 0.6 -i /content/drive/MyDrive/DX451/Rules/sample/sample.normal.mp4 -ss 5.2 -t 0.6 -i /content/drive/MyDrive/DX451/Rules/sample/sample.normal.mp4 -ss 9.3 -t 0.6 -i /content/drive/MyDrive/DX451/Rules/sample/sample.normal.mp4 -ss 1.2 -t 0.5 -i /content/drive/MyDrive/DX451/Rules/sample/sample.normal.mp4 -ss 4.1 -t 1.1 -i /content/drive/MyDrive/DX451/Rules/sample/sample.normal.mp4 -ss 8.7 -t 0.6 -i /content/drive/MyDrive/DX451/Rules/sample/sample.normal.mp4 -ss 5.8 -t 1.2 -i /content/drive/MyDrive/DX451/Rules/sample/sample.normal.mp4 -filter_complex \"[0:0][0:1][1:0][1:1][2:0][2:1][3:0][3:1][4:0][4:1][5:0][5:1][6:0][6:1][7:0][7:1][8:0][8:1][9:0][9:1][10:0][10:1][11:0][11:1][12:0][12:1] concat=n=13:v=1:a=1 [v] [a]\" -map \"[v]\" -map \"[a]\" /content/drive/MyDrive/DX451/Rules/sample/sample.output.mp4"
      ],
      "metadata": {
        "id": "s58ACCjVTeOB"
      },
      "execution_count": null,
      "outputs": []
    },
    {
      "cell_type": "markdown",
      "source": [
        "# Text-To-Speech"
      ],
      "metadata": {
        "id": "caWWD6L_J0Ue"
      }
    },
    {
      "cell_type": "code",
      "source": [
        "from gtts import gTTS\n",
        "from IPython.display import Audio\n",
        "\n",
        "\n",
        "text_to_speak = \"\"\n",
        "\n",
        "for word in words: \n",
        "  text_to_speak = text_to_speak + \" \" + get_word(word)\n",
        "  \n",
        "\n",
        "tts = gTTS(text_to_speak)\n",
        "tts.save('1.wav')\n",
        "sound_file = '1.wav'\n",
        "Audio(sound_file, autoplay=True)"
      ],
      "metadata": {
        "id": "MvY_FPTbZa2w"
      },
      "execution_count": null,
      "outputs": []
    },
    {
      "cell_type": "code",
      "source": [
        "print (text_to_speak)"
      ],
      "metadata": {
        "id": "1Wf9dKEEhqtW"
      },
      "execution_count": null,
      "outputs": []
    }
  ]
}