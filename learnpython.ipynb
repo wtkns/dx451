{
  "nbformat": 4,
  "nbformat_minor": 0,
  "metadata": {
    "colab": {
      "name": "learnpython.ipynb",
      "provenance": [],
      "collapsed_sections": [
        "W89PP7sqd6l5",
        "pwUjQEUEd_4T",
        "ttUTUnMXdeyp",
        "Qkni8Z9_dmXi",
        "5S7tCuIsdxDF",
        "fxFfdrjxaa_Q",
        "lLXRBXUCapXU",
        "XQzbkMgCbBQK",
        "4R_EdCaOcGxk",
        "HAZeii4Yck4Q",
        "CtAPuAp_c-qJ",
        "cE6JM55ceLkL"
      ],
      "include_colab_link": true
    },
    "kernelspec": {
      "name": "python3",
      "display_name": "Python 3"
    },
    "language_info": {
      "name": "python"
    }
  },
  "cells": [
    {
      "cell_type": "markdown",
      "metadata": {
        "id": "view-in-github",
        "colab_type": "text"
      },
      "source": [
        "<a href=\"https://colab.research.google.com/github/wtkns/dx451/blob/main/learnpython.ipynb\" target=\"_parent\"><img src=\"https://colab.research.google.com/assets/colab-badge.svg\" alt=\"Open In Colab\"/></a>"
      ]
    },
    {
      "cell_type": "code",
      "execution_count": null,
      "metadata": {
        "colab": {
          "base_uri": "https://localhost:8080/"
        },
        "id": "JiVEpRFtYnq2",
        "outputId": "0b2b89b4-2301-484c-c3ad-3a5c13d8e49c"
      },
      "outputs": [
        {
          "output_type": "stream",
          "name": "stdout",
          "text": [
            "Hello, World!\n"
          ]
        }
      ],
      "source": [
        "print(\"Hello, World!\")\n"
      ]
    },
    {
      "cell_type": "markdown",
      "source": [
        "# Variables and Literals"
      ],
      "metadata": {
        "id": "W89PP7sqd6l5"
      }
    },
    {
      "cell_type": "code",
      "source": [
        "a = 5\n",
        "print(\"a =\", 5)\n",
        "a = \"High five\"\n",
        "print(\"a =\", a)"
      ],
      "metadata": {
        "colab": {
          "base_uri": "https://localhost:8080/"
        },
        "id": "JMCsoh8SY7AS",
        "outputId": "da56575a-a4b3-4092-f151-2152dc2e8345"
      },
      "execution_count": null,
      "outputs": [
        {
          "output_type": "stream",
          "name": "stdout",
          "text": [
            "a = 5\n",
            "a = High five\n"
          ]
        }
      ]
    },
    {
      "cell_type": "code",
      "source": [
        "x = 14\n",
        "y = 4\n",
        "\n",
        "# Add two operands\n",
        "print('x + y =', x+y) # Output: x + y = 18\n",
        "\n",
        "# Subtract right operand from the left\n",
        "print('x - y =', x-y) # Output: x - y = 10\n",
        "\n",
        "# Multiply two operands\n",
        "print('x * y =', x*y) # Output: x * y = 56\n",
        "\n",
        "# Divide left operand by the right one \n",
        "print('x / y =', x/y) # Output: x / y = 3.5\n",
        "\n",
        "# Floor division (quotient)\n",
        "print('x // y =', x//y) # Output: x // y = 3\n",
        "\n",
        "# Remainder of the division of left operand by the right\n",
        "print('x % y =', x%y) # Output: x % y = 2\n",
        "\n",
        "# Left operand raised to the power of right (x^y)\n",
        "print('x ** y =', x**y) # Output: x ** y = 38416"
      ],
      "metadata": {
        "colab": {
          "base_uri": "https://localhost:8080/"
        },
        "id": "XecPTHj5ZB0y",
        "outputId": "c6b12d49-1da6-4fe4-88e9-98ab922aefd4"
      },
      "execution_count": null,
      "outputs": [
        {
          "output_type": "stream",
          "name": "stdout",
          "text": [
            "x + y = 18\n",
            "x - y = 10\n",
            "x * y = 56\n",
            "x / y = 3.5\n",
            "x // y = 3\n",
            "x % y = 2\n",
            "x ** y = 38416\n"
          ]
        }
      ]
    },
    {
      "cell_type": "code",
      "source": [
        "x = 5\n",
        "\n",
        "# x += 5 ----> x = x + 5\n",
        "x +=5\n",
        "print(x) # Output: 10\n",
        "\n",
        "# x /= 5 ----> x = x / 5\n",
        "x /= 5\n",
        "print(x) # Output: 2.0"
      ],
      "metadata": {
        "colab": {
          "base_uri": "https://localhost:8080/"
        },
        "id": "-gmlBHCWZHT7",
        "outputId": "61dde7c1-f803-4175-ab8a-fcb4d2b54c2f"
      },
      "execution_count": null,
      "outputs": [
        {
          "output_type": "stream",
          "name": "stdout",
          "text": [
            "10\n",
            "2.0\n"
          ]
        }
      ]
    },
    {
      "cell_type": "markdown",
      "source": [
        "# Input"
      ],
      "metadata": {
        "id": "pwUjQEUEd_4T"
      }
    },
    {
      "cell_type": "code",
      "source": [
        "inputString = input('Enter a sentence:')\n",
        "print('The inputted string is:', inputString)"
      ],
      "metadata": {
        "colab": {
          "base_uri": "https://localhost:8080/"
        },
        "id": "UhHgpNpqZXFA",
        "outputId": "486082e2-e0a2-4c25-b20b-a4fda60e5586"
      },
      "execution_count": null,
      "outputs": [
        {
          "output_type": "stream",
          "name": "stdout",
          "text": [
            "Enter a sentence:hello i am james\n",
            "The inputted string is: hello i am james\n"
          ]
        }
      ]
    },
    {
      "cell_type": "markdown",
      "source": [
        "# Comments"
      ],
      "metadata": {
        "id": "ttUTUnMXdeyp"
      }
    },
    {
      "cell_type": "code",
      "source": [
        "# This is a comment\n",
        "\n",
        "\"\"\"This is a multiline comment.\"\"\"\n",
        "\n",
        "'''This is also a multiline comment.'''"
      ],
      "metadata": {
        "colab": {
          "base_uri": "https://localhost:8080/",
          "height": 35
        },
        "id": "y7PW_F0xZd0Q",
        "outputId": "0a2506ea-f969-476d-ae75-6fcdb5dc3a6e"
      },
      "execution_count": null,
      "outputs": [
        {
          "output_type": "execute_result",
          "data": {
            "application/vnd.google.colaboratory.intrinsic+json": {
              "type": "string"
            },
            "text/plain": [
              "'This is also a multiline comment.'"
            ]
          },
          "metadata": {},
          "execution_count": 9
        }
      ]
    },
    {
      "cell_type": "markdown",
      "source": [
        "# Type Conversion"
      ],
      "metadata": {
        "id": "Qkni8Z9_dmXi"
      }
    },
    {
      "cell_type": "code",
      "source": [
        "num_int = 123  # integer type\n",
        "num_flo = 1.23 # float type\n",
        "\n",
        "num_new = num_int + num_flo\n",
        "\n",
        "print(\"Value of num_new:\",num_new)\n",
        "print(\"datatype of num_new:\",type(num_new))"
      ],
      "metadata": {
        "colab": {
          "base_uri": "https://localhost:8080/"
        },
        "id": "wc6JMGJaZ4nf",
        "outputId": "3358f5cf-daa0-4306-ba80-4cd52a2c4969"
      },
      "execution_count": null,
      "outputs": [
        {
          "output_type": "stream",
          "name": "stdout",
          "text": [
            "Value of num_new: 124.23\n",
            "datatype of num_new: <class 'float'>\n"
          ]
        }
      ]
    },
    {
      "cell_type": "code",
      "source": [
        ""
      ],
      "metadata": {
        "id": "f7RegBDbaGhy"
      },
      "execution_count": null,
      "outputs": []
    },
    {
      "cell_type": "code",
      "source": [
        "num_int = 123     # int type\n",
        "num_str = \"456\"   # str type\n",
        "\n",
        "print(num_int+num_str)"
      ],
      "metadata": {
        "colab": {
          "base_uri": "https://localhost:8080/",
          "height": 201
        },
        "id": "uwNZAqSdaG7L",
        "outputId": "7f10b706-efa8-4024-9b7c-91a7ee516963"
      },
      "execution_count": null,
      "outputs": [
        {
          "output_type": "error",
          "ename": "TypeError",
          "evalue": "ignored",
          "traceback": [
            "\u001b[0;31m---------------------------------------------------------------------------\u001b[0m",
            "\u001b[0;31mTypeError\u001b[0m                                 Traceback (most recent call last)",
            "\u001b[0;32m<ipython-input-11-3cacd04777e1>\u001b[0m in \u001b[0;36m<module>\u001b[0;34m()\u001b[0m\n\u001b[1;32m      2\u001b[0m \u001b[0mnum_str\u001b[0m \u001b[0;34m=\u001b[0m \u001b[0;34m\"456\"\u001b[0m   \u001b[0;31m# str type\u001b[0m\u001b[0;34m\u001b[0m\u001b[0;34m\u001b[0m\u001b[0m\n\u001b[1;32m      3\u001b[0m \u001b[0;34m\u001b[0m\u001b[0m\n\u001b[0;32m----> 4\u001b[0;31m \u001b[0mprint\u001b[0m\u001b[0;34m(\u001b[0m\u001b[0mnum_int\u001b[0m\u001b[0;34m+\u001b[0m\u001b[0mnum_str\u001b[0m\u001b[0;34m)\u001b[0m\u001b[0;34m\u001b[0m\u001b[0;34m\u001b[0m\u001b[0m\n\u001b[0m",
            "\u001b[0;31mTypeError\u001b[0m: unsupported operand type(s) for +: 'int' and 'str'"
          ]
        }
      ]
    },
    {
      "cell_type": "code",
      "source": [
        "num_int = 123  # int type\n",
        "num_str = \"456\" # str type\n",
        "\n",
        "# explicitly converted to int type\n",
        "num_str = int(num_str) \n",
        "\n",
        "print(num_int+num_str)"
      ],
      "metadata": {
        "colab": {
          "base_uri": "https://localhost:8080/"
        },
        "id": "0_nyU4aGaKmT",
        "outputId": "ffd09949-e447-42fc-9544-14f10831f622"
      },
      "execution_count": null,
      "outputs": [
        {
          "output_type": "stream",
          "name": "stdout",
          "text": [
            "579\n"
          ]
        }
      ]
    },
    {
      "cell_type": "markdown",
      "source": [
        "# Numeric Types"
      ],
      "metadata": {
        "id": "5S7tCuIsdxDF"
      }
    },
    {
      "cell_type": "code",
      "source": [
        "# Output: <class 'int'>\n",
        "print(type(5))\n",
        "\n",
        "# Output: <class 'float'>\n",
        "print(type(5.0))\n",
        "\n",
        "c = 5 + 3j\n",
        "\n",
        "# Output: <class 'complex'>\n",
        "print(type(c))"
      ],
      "metadata": {
        "colab": {
          "base_uri": "https://localhost:8080/"
        },
        "id": "wZuuER4RaPJk",
        "outputId": "7391bc2b-72fc-4c30-9d9f-42ed9a628bd3"
      },
      "execution_count": null,
      "outputs": [
        {
          "output_type": "stream",
          "name": "stdout",
          "text": [
            "<class 'int'>\n",
            "<class 'float'>\n",
            "<class 'complex'>\n"
          ]
        }
      ]
    },
    {
      "cell_type": "markdown",
      "source": [
        "# Lists"
      ],
      "metadata": {
        "id": "fxFfdrjxaa_Q"
      }
    },
    {
      "cell_type": "code",
      "source": [
        "# empty list\n",
        "my_list = []\n",
        "\n",
        "# list of integers\n",
        "my_list = [1, 2, 3]\n",
        "\n",
        "# list with mixed data types\n",
        "my_list = [1, \"Hello\", 3.4]"
      ],
      "metadata": {
        "id": "-9T2jhrBaaI6"
      },
      "execution_count": null,
      "outputs": []
    },
    {
      "cell_type": "code",
      "source": [
        "language = [\"French\", \"German\", \"English\", \"Polish\"]\n",
        "\n",
        "# Accessing first element\n",
        "print(language[0])\n",
        "\n",
        "\n",
        "# Accessing fourth element\n",
        "print(language[3])"
      ],
      "metadata": {
        "colab": {
          "base_uri": "https://localhost:8080/"
        },
        "id": "YFvLVZM-amKa",
        "outputId": "3818513c-134a-44c1-8d73-39bbe407951f"
      },
      "execution_count": null,
      "outputs": [
        {
          "output_type": "stream",
          "name": "stdout",
          "text": [
            "French\n",
            "Polish\n"
          ]
        }
      ]
    },
    {
      "cell_type": "markdown",
      "source": [
        ""
      ],
      "metadata": {
        "id": "NOJS2YCNapIK"
      }
    },
    {
      "cell_type": "markdown",
      "source": [
        "# Tuples"
      ],
      "metadata": {
        "id": "lLXRBXUCapXU"
      }
    },
    {
      "cell_type": "code",
      "source": [
        "language = (\"French\", \"German\", \"English\", \"Polish\")\n",
        "print(language)"
      ],
      "metadata": {
        "colab": {
          "base_uri": "https://localhost:8080/"
        },
        "id": "PpPU0oiZarR3",
        "outputId": "0c5ba09d-02dd-4ab6-8999-dcc4bbc2ed06"
      },
      "execution_count": null,
      "outputs": [
        {
          "output_type": "stream",
          "name": "stdout",
          "text": [
            "('French', 'German', 'English', 'Polish')\n"
          ]
        }
      ]
    },
    {
      "cell_type": "code",
      "source": [
        "t1 = tuple()\n",
        "print('t1 =', t1)\n",
        "\n",
        "# creating a tuple from a list\n",
        "t2 = tuple([1, 4, 6])\n",
        "print('t2 =', t2)\n",
        "\n",
        "# creating a tuple from a string\n",
        "t1 = tuple('Python')\n",
        "print('t1 =',t1)\n",
        "\n",
        "# creating a tuple from a dictionary\n",
        "t1 = tuple({1: 'one', 2: 'two'})\n",
        "print('t1 =',t1)"
      ],
      "metadata": {
        "colab": {
          "base_uri": "https://localhost:8080/"
        },
        "id": "FkOMo5uAa2bE",
        "outputId": "611796b7-6999-4834-a075-c93a580ebb35"
      },
      "execution_count": null,
      "outputs": [
        {
          "output_type": "stream",
          "name": "stdout",
          "text": [
            "t1 = ()\n",
            "t2 = (1, 4, 6)\n",
            "t1 = ('P', 'y', 't', 'h', 'o', 'n')\n",
            "t1 = (1, 2)\n"
          ]
        }
      ]
    },
    {
      "cell_type": "code",
      "source": [
        "language = (\"French\", \"German\", \"English\", \"Polish\")\n",
        "\n",
        "print(language[1]) #Output: German\n",
        "print(language[3]) #Output: Polish\n",
        "print(language[-1]) # Output: Polish\n"
      ],
      "metadata": {
        "colab": {
          "base_uri": "https://localhost:8080/"
        },
        "id": "r3VbPCI2a7nX",
        "outputId": "2a846bd7-8a54-42ab-cce6-c04e2f95ce27"
      },
      "execution_count": null,
      "outputs": [
        {
          "output_type": "stream",
          "name": "stdout",
          "text": [
            "German\n",
            "Polish\n",
            "Polish\n"
          ]
        }
      ]
    },
    {
      "cell_type": "code",
      "source": [
        "language = (\"French\", \"German\", \"English\", \"Polish\")\n",
        "del language\n",
        "\n",
        "# NameError: name 'language' is not defined\n",
        "print(language)"
      ],
      "metadata": {
        "colab": {
          "base_uri": "https://localhost:8080/",
          "height": 201
        },
        "id": "yTAol-jIa-gZ",
        "outputId": "f97f3ad2-4a7b-4103-afbe-d0b67b93846d"
      },
      "execution_count": null,
      "outputs": [
        {
          "output_type": "error",
          "ename": "NameError",
          "evalue": "ignored",
          "traceback": [
            "\u001b[0;31m---------------------------------------------------------------------------\u001b[0m",
            "\u001b[0;31mNameError\u001b[0m                                 Traceback (most recent call last)",
            "\u001b[0;32m<ipython-input-20-80805fc0af21>\u001b[0m in \u001b[0;36m<module>\u001b[0;34m()\u001b[0m\n\u001b[1;32m      3\u001b[0m \u001b[0;34m\u001b[0m\u001b[0m\n\u001b[1;32m      4\u001b[0m \u001b[0;31m# NameError: name 'language' is not defined\u001b[0m\u001b[0;34m\u001b[0m\u001b[0;34m\u001b[0m\u001b[0;34m\u001b[0m\u001b[0m\n\u001b[0;32m----> 5\u001b[0;31m \u001b[0mprint\u001b[0m\u001b[0;34m(\u001b[0m\u001b[0mlanguage\u001b[0m\u001b[0;34m)\u001b[0m\u001b[0;34m\u001b[0m\u001b[0;34m\u001b[0m\u001b[0m\n\u001b[0m",
            "\u001b[0;31mNameError\u001b[0m: name 'language' is not defined"
          ]
        }
      ]
    },
    {
      "cell_type": "markdown",
      "source": [
        "# String"
      ],
      "metadata": {
        "id": "XQzbkMgCbBQK"
      }
    },
    {
      "cell_type": "code",
      "source": [
        "# all of the following are equivalent\n",
        "my_string = 'Hello'\n",
        "print(my_string)\n",
        "\n",
        "my_string = \"Hello\"\n",
        "print(my_string)\n",
        "\n",
        "my_string = '''Hello'''\n",
        "print(my_string)\n",
        "\n",
        "# triple quotes string can extend multiple lines\n",
        "my_string = \"\"\"Hello, welcome to\n",
        "the world of Python\"\"\"\n",
        "print(my_string)"
      ],
      "metadata": {
        "colab": {
          "base_uri": "https://localhost:8080/"
        },
        "id": "of-swn9NbDLr",
        "outputId": "e224410a-2afa-469f-e216-fe7ac10f014e"
      },
      "execution_count": null,
      "outputs": [
        {
          "output_type": "stream",
          "name": "stdout",
          "text": [
            "Hello\n",
            "Hello\n",
            "Hello\n",
            "Hello, welcome to\n",
            "the world of Python\n"
          ]
        }
      ]
    },
    {
      "cell_type": "code",
      "source": [
        "str = 'programiz'\n",
        "print('str = ', str)\n",
        "\n",
        "print('str[0] = ', str[0]) # Output: p\n",
        "\n",
        "print('str[-1] = ', str[-1]) # Output: z\n",
        "\n",
        "#slicing 2nd to 5th character\n",
        "print('str[1:5] = ', str[1:5]) # Output: rogr\n",
        "\n",
        "#slicing 6th to 2nd last character\n",
        "print('str[5:-2] = ', str[5:-2]) # Output: am"
      ],
      "metadata": {
        "colab": {
          "base_uri": "https://localhost:8080/"
        },
        "id": "XRAa_rjBbPiM",
        "outputId": "fea26255-c609-43a4-9c43-55535a04ecf1"
      },
      "execution_count": null,
      "outputs": [
        {
          "output_type": "stream",
          "name": "stdout",
          "text": [
            "str =  programiz\n",
            "str[0] =  p\n",
            "str[-1] =  z\n",
            "str[1:5] =  rogr\n",
            "str[5:-2] =  am\n"
          ]
        }
      ]
    },
    {
      "cell_type": "code",
      "source": [
        "str1 = 'Hello '\n",
        "str2 ='World!'\n",
        "str3 = str1 + str2\n",
        "str2 = str1 + str2\n",
        "\n",
        "# Output: Hello World!\n",
        "print(str1 + str2)\n",
        "\n",
        "# Hello Hello Hello\n",
        "print(str1 * 3)\n",
        "\n",
        "print(str3)"
      ],
      "metadata": {
        "colab": {
          "base_uri": "https://localhost:8080/"
        },
        "id": "zGCKvMMyblSs",
        "outputId": "56c31bdd-f998-4ab5-b2a9-a14825dcd955"
      },
      "execution_count": null,
      "outputs": [
        {
          "output_type": "stream",
          "name": "stdout",
          "text": [
            "Hello Hello World!\n",
            "Hello Hello Hello \n",
            "Hello World!\n"
          ]
        }
      ]
    },
    {
      "cell_type": "markdown",
      "source": [
        "# Sets"
      ],
      "metadata": {
        "id": "4R_EdCaOcGxk"
      }
    },
    {
      "cell_type": "code",
      "source": [
        "# set of integers\n",
        "my_set = {1, 2, 3}\n",
        "print(my_set)\n",
        "\n",
        "# set of mixed datatypes\n",
        "my_set = {1.0, \"Hello\", (1, 2, 3)}\n",
        "print(my_set)"
      ],
      "metadata": {
        "colab": {
          "base_uri": "https://localhost:8080/"
        },
        "id": "T2xE-du0cIm6",
        "outputId": "addc9f33-5e52-4159-8e69-ca0f46bd6b28"
      },
      "execution_count": null,
      "outputs": [
        {
          "output_type": "stream",
          "name": "stdout",
          "text": [
            "{1, 2, 3}\n",
            "{'Hello', 1.0, (1, 2, 3)}\n"
          ]
        }
      ]
    },
    {
      "cell_type": "code",
      "source": [
        "# set of integers\n",
        "my_set = {1, 2, 3}\n",
        "\n",
        "my_set.add(4)\n",
        "print(my_set) # Output: {1, 2, 3, 4}\n",
        "\n",
        "my_set.add(2)\n",
        "print(my_set) # Output: {1, 2, 3, 4}\n",
        "\n",
        "my_set.update([3, 4, 5])\n",
        "print(my_set) # Output: {1, 2, 3, 4, 5}\n",
        "\n",
        "my_set.remove(4)\n",
        "print(my_set) # Output: {1, 2, 3, 5}"
      ],
      "metadata": {
        "colab": {
          "base_uri": "https://localhost:8080/"
        },
        "id": "Q3bBjAaFcXki",
        "outputId": "6e2638ad-40b3-4354-a507-17830a3398e5"
      },
      "execution_count": null,
      "outputs": [
        {
          "output_type": "stream",
          "name": "stdout",
          "text": [
            "{1, 2, 3, 4}\n",
            "{1, 2, 3, 4}\n",
            "{1, 2, 3, 4, 5}\n",
            "{1, 2, 3, 5}\n"
          ]
        }
      ]
    },
    {
      "cell_type": "code",
      "source": [
        "A = {1, 2, 3}\n",
        "B = {2, 3, 4, 5}\n",
        "\n",
        "# Equivalent to A.union(B) \n",
        "# Also equivalent to B.union(A)\n",
        "print(A | B) # Output: {1, 2, 3, 4, 5}\n",
        "\n",
        "# Equivalent to A.intersection(B)\n",
        "# Also equivalent to B.intersection(A)\n",
        "print (A & B) # Output: {2, 3}\n",
        "\n",
        "# Set Difference\n",
        "print (A - B) # Output: {1}\n",
        "\n",
        "# Set Symmetric Difference\n",
        "print(A ^ B)  # Output: {1, 4, 5}"
      ],
      "metadata": {
        "colab": {
          "base_uri": "https://localhost:8080/"
        },
        "id": "jw4S5jEscaZ8",
        "outputId": "ab40ddb7-4c60-4bfe-d0ba-36bea2057759"
      },
      "execution_count": null,
      "outputs": [
        {
          "output_type": "stream",
          "name": "stdout",
          "text": [
            "{1, 2, 3, 4, 5}\n",
            "{2, 3}\n",
            "{1}\n",
            "{1, 4, 5}\n"
          ]
        }
      ]
    },
    {
      "cell_type": "markdown",
      "source": [
        "# Dictionaries"
      ],
      "metadata": {
        "id": "HAZeii4Yck4Q"
      }
    },
    {
      "cell_type": "code",
      "source": [
        "# empty dictionary\n",
        "my_dict = {}\n",
        "\n",
        "# dictionary with integer keys\n",
        "my_dict = {1: 'apple', 2: 'ball'}\n",
        "\n",
        "# dictionary with mixed keys\n",
        "my_dict = {'name': 'John', 1: [2, 4, 3]}"
      ],
      "metadata": {
        "id": "8EjHDkdDcndr"
      },
      "execution_count": null,
      "outputs": []
    },
    {
      "cell_type": "code",
      "source": [
        "person = {'name':'Jack', 'age': 26, 'salary': 4534.2}\n",
        "print(person['age']) # Output: 26"
      ],
      "metadata": {
        "colab": {
          "base_uri": "https://localhost:8080/"
        },
        "id": "_qu-7UbNcsrl",
        "outputId": "6bc45b5b-85b8-4d5c-c2ff-cfc7a29422c9"
      },
      "execution_count": null,
      "outputs": [
        {
          "output_type": "stream",
          "name": "stdout",
          "text": [
            "26\n"
          ]
        }
      ]
    },
    {
      "cell_type": "code",
      "source": [
        "person = {'name':'Jack', 'age': 26}\n",
        "\n",
        "# Changing age to 36\n",
        "person['age'] = 36 \n",
        "print(person) # Output: {'name': 'Jack', 'age': 36}\n",
        "\n",
        "# Adding salary key, value pair\n",
        "person['salary'] = 4342.4\n",
        "print(person) # Output: {'name': 'Jack', 'age': 36, 'salary': 4342.4}\n",
        "\n",
        "\n",
        "# Deleting age\n",
        "del person['age']\n",
        "print(person) # Output: {'name': 'Jack', 'salary': 4342.4}\n",
        "\n",
        "# Deleting entire dictionary\n",
        "del person"
      ],
      "metadata": {
        "colab": {
          "base_uri": "https://localhost:8080/"
        },
        "id": "KQPKCl4mcwJ9",
        "outputId": "f1844f57-cfe0-40c8-d19f-771ae8849f35"
      },
      "execution_count": null,
      "outputs": [
        {
          "output_type": "stream",
          "name": "stdout",
          "text": [
            "{'name': 'Jack', 'age': 36}\n",
            "{'name': 'Jack', 'age': 36, 'salary': 4342.4}\n",
            "{'name': 'Jack', 'salary': 4342.4}\n"
          ]
        }
      ]
    },
    {
      "cell_type": "markdown",
      "source": [
        "# Python range()"
      ],
      "metadata": {
        "id": "CtAPuAp_c-qJ"
      }
    },
    {
      "cell_type": "code",
      "source": [
        "print(range(1, 10)) # Output: range(1, 10)\n"
      ],
      "metadata": {
        "colab": {
          "base_uri": "https://localhost:8080/"
        },
        "id": "Rp9T5fTmdAZN",
        "outputId": "54618ca5-0274-4d1d-e225-cdeef5bf33f7"
      },
      "execution_count": null,
      "outputs": [
        {
          "output_type": "stream",
          "name": "stdout",
          "text": [
            "range(1, 10)\n"
          ]
        }
      ]
    },
    {
      "cell_type": "code",
      "source": [
        "numbers = range(1, 6)\n",
        "\n",
        "print(list(numbers)) # Output: [1, 2, 3, 4, 5]\n",
        "print(tuple(numbers)) # Output: (1, 2, 3, 4, 5)\n",
        "print(set(numbers)) # Output: {1, 2, 3, 4, 5}\n",
        "\n",
        "# Output: {1: 99, 2: 99, 3: 99, 4: 99, 5: 99} \n",
        "print(dict.fromkeys(numbers, 99))"
      ],
      "metadata": {
        "colab": {
          "base_uri": "https://localhost:8080/"
        },
        "id": "EQLRJ3codEeN",
        "outputId": "c1a648ac-0057-48fe-8c96-9413814859f5"
      },
      "execution_count": null,
      "outputs": [
        {
          "output_type": "stream",
          "name": "stdout",
          "text": [
            "[1, 2, 3, 4, 5]\n",
            "(1, 2, 3, 4, 5)\n",
            "{1, 2, 3, 4, 5}\n",
            "{1: 99, 2: 99, 3: 99, 4: 99, 5: 99}\n"
          ]
        }
      ]
    },
    {
      "cell_type": "code",
      "source": [
        "# Equivalent to: numbers = range(1, 6)\n",
        "numbers1 = range(1, 6 , 1)\n",
        "print(list(numbers1)) # Output: [1, 2, 3, 4, 5]\n",
        "\n",
        "numbers2 = range(1, 6, 2)\n",
        "print(list(numbers2)) # Output: [1, 3, 5]\n",
        "\n",
        "numbers3 = range(5, 0, -1)\n",
        "print(list(numbers3)) # Output: [5, 4, 3, 2, 1]"
      ],
      "metadata": {
        "colab": {
          "base_uri": "https://localhost:8080/"
        },
        "id": "iDm0LaeLdLlX",
        "outputId": "55a4bda1-d584-4ed4-d6ba-4ff5a5a6fe34"
      },
      "execution_count": null,
      "outputs": [
        {
          "output_type": "stream",
          "name": "stdout",
          "text": [
            "[1, 2, 3, 4, 5]\n",
            "[1, 3, 5]\n",
            "[5, 4, 3, 2, 1]\n"
          ]
        }
      ]
    },
    {
      "cell_type": "markdown",
      "source": [
        "# Python Control Flow"
      ],
      "metadata": {
        "id": "yo3QuX1qdPp2"
      }
    },
    {
      "cell_type": "markdown",
      "source": [
        "## if else"
      ],
      "metadata": {
        "id": "cE6JM55ceLkL"
      }
    },
    {
      "cell_type": "code",
      "source": [
        "num = -1\n",
        "\n",
        "if num > 0:\n",
        "    print(\"Positive number\")\n",
        "elif num == 0:\n",
        "    print(\"Zero\")\n",
        "else:\n",
        "    print(\"Negative number\")\n",
        "    \n",
        "# Output: Negative number"
      ],
      "metadata": {
        "colab": {
          "base_uri": "https://localhost:8080/"
        },
        "id": "AZzbGfiadTcd",
        "outputId": "440e9ef9-a82b-4575-9206-886ae20ea670"
      },
      "execution_count": null,
      "outputs": [
        {
          "output_type": "stream",
          "name": "stdout",
          "text": [
            "Negative number\n"
          ]
        }
      ]
    },
    {
      "cell_type": "code",
      "source": [
        "if False:\n",
        "  print(\"I am inside the body of if.\")\n",
        "  print(\"I am also inside the body of if.\")\n",
        "print(\"I am outside the body of if\")\n",
        "\n",
        "# Output: I am outside the body of if."
      ],
      "metadata": {
        "colab": {
          "base_uri": "https://localhost:8080/"
        },
        "id": "_zPM9gOreVZG",
        "outputId": "ddafcf4d-52f9-415c-872a-eac1e6962804"
      },
      "execution_count": null,
      "outputs": [
        {
          "output_type": "stream",
          "name": "stdout",
          "text": [
            "I am outside the body of if\n"
          ]
        }
      ]
    },
    {
      "cell_type": "markdown",
      "source": [
        "## while Loop"
      ],
      "metadata": {
        "id": "M_46jLtVeagT"
      }
    },
    {
      "cell_type": "code",
      "source": [
        "n = 100\n",
        "\n",
        "# initialize sum and counter\n",
        "sum = 0\n",
        "i = 1\n",
        "\n",
        "while i <= n:\n",
        "    sum = sum + i\n",
        "    i = i+1    # update counter\n",
        "\n",
        "print(\"The sum is\", sum)\n",
        "\n",
        "# Output: The sum is 5050"
      ],
      "metadata": {
        "colab": {
          "base_uri": "https://localhost:8080/"
        },
        "id": "7qdXdfY0ec2Y",
        "outputId": "112ea091-e201-4798-9a49-c341845b15ce"
      },
      "execution_count": null,
      "outputs": [
        {
          "output_type": "stream",
          "name": "stdout",
          "text": [
            "The sum is 5050\n"
          ]
        }
      ]
    },
    {
      "cell_type": "markdown",
      "source": [
        "## For Loop"
      ],
      "metadata": {
        "id": "dxun6NU9ejZj"
      }
    },
    {
      "cell_type": "code",
      "source": [
        "numbers = [6, 5, 3, 8, 4, 2]\n",
        "\n",
        "sum = 0\n",
        "\n",
        "# iterate over the list\n",
        "for val in numbers:\n",
        "  sum = sum+val\n",
        "\n",
        "print(\"The sum is\", sum) # Output: The sum is 28"
      ],
      "metadata": {
        "colab": {
          "base_uri": "https://localhost:8080/"
        },
        "id": "uMPLqNIbehbW",
        "outputId": "42c07205-183f-40a9-b970-f2ec9fe3bb91"
      },
      "execution_count": null,
      "outputs": [
        {
          "output_type": "stream",
          "name": "stdout",
          "text": [
            "The sum is 28\n"
          ]
        }
      ]
    },
    {
      "cell_type": "markdown",
      "source": [
        "## Break"
      ],
      "metadata": {
        "id": "oKcDr6cue2GV"
      }
    },
    {
      "cell_type": "code",
      "source": [
        "for val in \"string\":\n",
        "    if val == \"r\":\n",
        "        break\n",
        "    print(val)\n",
        "\n",
        "print(\"The end\")"
      ],
      "metadata": {
        "colab": {
          "base_uri": "https://localhost:8080/"
        },
        "id": "48itVCJMe4Zh",
        "outputId": "6c268aee-b6ff-4ca5-c2b4-f39e4e63e2e0"
      },
      "execution_count": null,
      "outputs": [
        {
          "output_type": "stream",
          "name": "stdout",
          "text": [
            "s\n",
            "t\n",
            "The end\n"
          ]
        }
      ]
    },
    {
      "cell_type": "markdown",
      "source": [
        "## Continue"
      ],
      "metadata": {
        "id": "NTUnlIKIe-Hz"
      }
    },
    {
      "cell_type": "code",
      "source": [
        "for val in \"string\":\n",
        "    if val == \"r\":\n",
        "        continue\n",
        "    print(val)\n",
        "\n",
        "print(\"The end\")"
      ],
      "metadata": {
        "colab": {
          "base_uri": "https://localhost:8080/"
        },
        "id": "LH2UA7s_fBbr",
        "outputId": "74268626-cfe3-4aa6-f5da-556c7c8a28d9"
      },
      "execution_count": null,
      "outputs": [
        {
          "output_type": "stream",
          "name": "stdout",
          "text": [
            "s\n",
            "t\n",
            "i\n",
            "n\n",
            "g\n",
            "The end\n"
          ]
        }
      ]
    },
    {
      "cell_type": "markdown",
      "source": [
        "## pass Statement"
      ],
      "metadata": {
        "id": "FF6oaqqIfJiV"
      }
    },
    {
      "cell_type": "code",
      "source": [
        "sequence = {'p', 'a', 's', 's'}\n",
        "for val in sequence:\n",
        "    pass"
      ],
      "metadata": {
        "id": "KnkxeUtVfLtv"
      },
      "execution_count": null,
      "outputs": []
    },
    {
      "cell_type": "markdown",
      "source": [
        "# Functions"
      ],
      "metadata": {
        "id": "t2CAvhQcfQhy"
      }
    },
    {
      "cell_type": "code",
      "source": [
        "def print_lines():\n",
        "  print(\"I am line1.\")\n",
        "  print(\"I am line2.\")\n",
        "\n",
        "# function call\n",
        "print_lines()"
      ],
      "metadata": {
        "colab": {
          "base_uri": "https://localhost:8080/"
        },
        "id": "1aqyxH6WfTES",
        "outputId": "c522ecfb-a8b7-4487-dabf-3ca7a158a14f"
      },
      "execution_count": null,
      "outputs": [
        {
          "output_type": "stream",
          "name": "stdout",
          "text": [
            "I am line1.\n",
            "I am line2.\n"
          ]
        }
      ]
    },
    {
      "cell_type": "code",
      "source": [
        "def add_numbers(a, b):\n",
        "  sum = a + b\n",
        "  print(sum)\n",
        "\n",
        "add_numbers(4, 5)\n",
        "\n",
        "# Output: 9"
      ],
      "metadata": {
        "colab": {
          "base_uri": "https://localhost:8080/"
        },
        "id": "K6xF7L8dfX4-",
        "outputId": "8bf4af3f-9719-4fc6-d47f-926fa2b249d3"
      },
      "execution_count": null,
      "outputs": [
        {
          "output_type": "stream",
          "name": "stdout",
          "text": [
            "9\n"
          ]
        }
      ]
    },
    {
      "cell_type": "code",
      "source": [
        "def add_numbers(a, b):\n",
        "  sum = a + b\n",
        "  return sum\n",
        "\n",
        "result = add_numbers(4, 5)\n",
        "print(result)\n",
        "\n",
        "# Output: 9"
      ],
      "metadata": {
        "colab": {
          "base_uri": "https://localhost:8080/"
        },
        "id": "H49ojdqwfZnh",
        "outputId": "b04d2146-07c9-4bd3-e55b-843250846f0f"
      },
      "execution_count": null,
      "outputs": [
        {
          "output_type": "stream",
          "name": "stdout",
          "text": [
            "9\n"
          ]
        }
      ]
    },
    {
      "cell_type": "markdown",
      "source": [
        "## Recursion"
      ],
      "metadata": {
        "id": "P2MessB5fdSP"
      }
    },
    {
      "cell_type": "code",
      "source": [
        "# Recursive function to find the factorial of a number\n",
        "\n",
        "def calc_factorial(x):\n",
        "\n",
        "    if x == 1:\n",
        "        return 1\n",
        "    else:\n",
        "        return (x * calc_factorial(x-1))\n",
        "\n",
        "num = 6\n",
        "print(\"The factorial of\", num, \"is\", calc_factorial(num)) \n",
        "\n",
        "# Output: The factorial of 6 is 720"
      ],
      "metadata": {
        "colab": {
          "base_uri": "https://localhost:8080/"
        },
        "id": "-FkYoWhXfcm8",
        "outputId": "8b8b87ad-750e-4da8-b3a5-fba86cdcb524"
      },
      "execution_count": null,
      "outputs": [
        {
          "output_type": "stream",
          "name": "stdout",
          "text": [
            "The factorial of 6 is 720\n"
          ]
        }
      ]
    },
    {
      "cell_type": "markdown",
      "source": [
        "## Lambda Functions"
      ],
      "metadata": {
        "id": "Wc2yWMndfo9p"
      }
    },
    {
      "cell_type": "code",
      "source": [
        "square = lambda x: x ** 2\n",
        "print(square(5))\n",
        "\n",
        "# Output: 25"
      ],
      "metadata": {
        "colab": {
          "base_uri": "https://localhost:8080/"
        },
        "id": "dAvb_WXofsPY",
        "outputId": "07453b2d-14d3-4aa7-ac27-96556f378489"
      },
      "execution_count": null,
      "outputs": [
        {
          "output_type": "stream",
          "name": "stdout",
          "text": [
            "25\n"
          ]
        }
      ]
    },
    {
      "cell_type": "markdown",
      "source": [
        "# Modules"
      ],
      "metadata": {
        "id": "n94Nnxmnfx2s"
      }
    },
    {
      "cell_type": "code",
      "source": [
        "# Python Module example\n",
        "\n",
        "def add(a, b):\n",
        "   return a + b"
      ],
      "metadata": {
        "id": "B-t4iGJtfzTJ"
      },
      "execution_count": null,
      "outputs": []
    },
    {
      "cell_type": "code",
      "source": [
        "# importing example module\n",
        "import example \n",
        "\n",
        "# accessing the function inside the module using . operator\n",
        "example.add(4, 5.5) "
      ],
      "metadata": {
        "colab": {
          "base_uri": "https://localhost:8080/",
          "height": 374
        },
        "id": "qQsjqZP2f2rP",
        "outputId": "e0474866-d459-4824-b233-9f413d30a1aa"
      },
      "execution_count": null,
      "outputs": [
        {
          "output_type": "error",
          "ename": "ModuleNotFoundError",
          "evalue": "ignored",
          "traceback": [
            "\u001b[0;31m---------------------------------------------------------------------------\u001b[0m",
            "\u001b[0;31mModuleNotFoundError\u001b[0m                       Traceback (most recent call last)",
            "\u001b[0;32m<ipython-input-51-162c8105745d>\u001b[0m in \u001b[0;36m<module>\u001b[0;34m()\u001b[0m\n\u001b[1;32m      1\u001b[0m \u001b[0;31m# importing example module\u001b[0m\u001b[0;34m\u001b[0m\u001b[0;34m\u001b[0m\u001b[0;34m\u001b[0m\u001b[0m\n\u001b[0;32m----> 2\u001b[0;31m \u001b[0;32mimport\u001b[0m \u001b[0mexample\u001b[0m\u001b[0;34m\u001b[0m\u001b[0;34m\u001b[0m\u001b[0m\n\u001b[0m\u001b[1;32m      3\u001b[0m \u001b[0;34m\u001b[0m\u001b[0m\n\u001b[1;32m      4\u001b[0m \u001b[0;31m# accessing the function inside the module using . operator\u001b[0m\u001b[0;34m\u001b[0m\u001b[0;34m\u001b[0m\u001b[0;34m\u001b[0m\u001b[0m\n\u001b[1;32m      5\u001b[0m \u001b[0mexample\u001b[0m\u001b[0;34m.\u001b[0m\u001b[0madd\u001b[0m\u001b[0;34m(\u001b[0m\u001b[0;36m4\u001b[0m\u001b[0;34m,\u001b[0m \u001b[0;36m5.5\u001b[0m\u001b[0;34m)\u001b[0m\u001b[0;34m\u001b[0m\u001b[0;34m\u001b[0m\u001b[0m\n",
            "\u001b[0;31mModuleNotFoundError\u001b[0m: No module named 'example'",
            "",
            "\u001b[0;31m---------------------------------------------------------------------------\u001b[0;32m\nNOTE: If your import is failing due to a missing package, you can\nmanually install dependencies using either !pip or !apt.\n\nTo view examples of installing some common dependencies, click the\n\"Open Examples\" button below.\n\u001b[0;31m---------------------------------------------------------------------------\u001b[0m\n"
          ],
          "errorDetails": {
            "actions": [
              {
                "action": "open_url",
                "actionText": "Open Examples",
                "url": "/notebooks/snippets/importing_libraries.ipynb"
              }
            ]
          }
        }
      ]
    },
    {
      "cell_type": "code",
      "source": [
        "import math\n",
        "\n",
        "result = math.log2(5) # return the base-2 logarithm\n",
        "print(result) # Output: 2.321928094887362"
      ],
      "metadata": {
        "colab": {
          "base_uri": "https://localhost:8080/"
        },
        "id": "SALwyAxKf7yb",
        "outputId": "ec67e100-aa1b-4314-c467-fb397341cbad"
      },
      "execution_count": null,
      "outputs": [
        {
          "output_type": "stream",
          "name": "stdout",
          "text": [
            "2.321928094887362\n"
          ]
        }
      ]
    },
    {
      "cell_type": "code",
      "source": [
        "from math import pi\n",
        "print(\"The value of pi is\", pi)\n",
        "\n",
        "# Output: The value of pi is 3.141592653589793"
      ],
      "metadata": {
        "colab": {
          "base_uri": "https://localhost:8080/"
        },
        "id": "kE8M2oFsf-Qo",
        "outputId": "f2404779-acd2-4588-f233-6fded84fa9fd"
      },
      "execution_count": null,
      "outputs": [
        {
          "output_type": "stream",
          "name": "stdout",
          "text": [
            "The value of pi is 3.141592653589793\n"
          ]
        }
      ]
    },
    {
      "cell_type": "markdown",
      "source": [
        "# File IO"
      ],
      "metadata": {
        "id": "-bm009nVgBdi"
      }
    },
    {
      "cell_type": "markdown",
      "source": [
        "\n",
        "1.   'r'\tOpen a file for reading. (default)\n",
        "\n",
        "2.   'w'\tOpen a file for writing. Creates a new file if it does not exist or truncates the file if it exists.\n",
        "\n",
        "3.   'x'\tOpen a file for exclusive creation. If the file already exists, the operation fails.\n",
        "\n",
        "4.   'a'\tOpen for appending at the end of the file without truncating it. Creates a new file if it does not exist.\n",
        "5. 't'\tOpen in text mode. (default)\n",
        "6. 'b'\tOpen in binary mode.\n",
        "7. '+'\tOpen a file for updating (reading and writing)"
      ],
      "metadata": {
        "id": "_tn0y5nagTST"
      }
    },
    {
      "cell_type": "code",
      "source": [
        "f = open(\"test.txt\")    # open file in current directory\n",
        "f = open(\"C:/Python33/README.txt\")  # specifying full path"
      ],
      "metadata": {
        "colab": {
          "base_uri": "https://localhost:8080/",
          "height": 183
        },
        "id": "O8uwyk4cgDgY",
        "outputId": "09b38aa7-8654-4103-8b3c-a4adbc0b846d"
      },
      "execution_count": null,
      "outputs": [
        {
          "output_type": "error",
          "ename": "FileNotFoundError",
          "evalue": "ignored",
          "traceback": [
            "\u001b[0;31m---------------------------------------------------------------------------\u001b[0m",
            "\u001b[0;31mFileNotFoundError\u001b[0m                         Traceback (most recent call last)",
            "\u001b[0;32m<ipython-input-54-3e8a893a44c4>\u001b[0m in \u001b[0;36m<module>\u001b[0;34m()\u001b[0m\n\u001b[0;32m----> 1\u001b[0;31m \u001b[0mf\u001b[0m \u001b[0;34m=\u001b[0m \u001b[0mopen\u001b[0m\u001b[0;34m(\u001b[0m\u001b[0;34m\"test.txt\"\u001b[0m\u001b[0;34m)\u001b[0m    \u001b[0;31m# open file in current directory\u001b[0m\u001b[0;34m\u001b[0m\u001b[0;34m\u001b[0m\u001b[0m\n\u001b[0m\u001b[1;32m      2\u001b[0m \u001b[0mf\u001b[0m \u001b[0;34m=\u001b[0m \u001b[0mopen\u001b[0m\u001b[0;34m(\u001b[0m\u001b[0;34m\"C:/Python33/README.txt\"\u001b[0m\u001b[0;34m)\u001b[0m  \u001b[0;31m# specifying full path\u001b[0m\u001b[0;34m\u001b[0m\u001b[0;34m\u001b[0m\u001b[0m\n",
            "\u001b[0;31mFileNotFoundError\u001b[0m: [Errno 2] No such file or directory: 'test.txt'"
          ]
        }
      ]
    },
    {
      "cell_type": "code",
      "source": [
        "f = open(\"test.txt\")      # equivalent to 'r' or 'rt'\n",
        "f = open(\"test.txt\",'w')  # write in text mode\n",
        "f = open(\"img.bmp\",'r+b') # read and write in binary mode"
      ],
      "metadata": {
        "colab": {
          "base_uri": "https://localhost:8080/",
          "height": 201
        },
        "id": "O7e1O8AKgOI6",
        "outputId": "ef11589b-b1a7-4b28-d066-22dd09459e41"
      },
      "execution_count": null,
      "outputs": [
        {
          "output_type": "error",
          "ename": "FileNotFoundError",
          "evalue": "ignored",
          "traceback": [
            "\u001b[0;31m---------------------------------------------------------------------------\u001b[0m",
            "\u001b[0;31mFileNotFoundError\u001b[0m                         Traceback (most recent call last)",
            "\u001b[0;32m<ipython-input-57-29631e6ac1f0>\u001b[0m in \u001b[0;36m<module>\u001b[0;34m()\u001b[0m\n\u001b[1;32m      1\u001b[0m \u001b[0mf\u001b[0m \u001b[0;34m=\u001b[0m \u001b[0mopen\u001b[0m\u001b[0;34m(\u001b[0m\u001b[0;34m\"test.txt\"\u001b[0m\u001b[0;34m)\u001b[0m      \u001b[0;31m# equivalent to 'r' or 'rt'\u001b[0m\u001b[0;34m\u001b[0m\u001b[0;34m\u001b[0m\u001b[0m\n\u001b[1;32m      2\u001b[0m \u001b[0mf\u001b[0m \u001b[0;34m=\u001b[0m \u001b[0mopen\u001b[0m\u001b[0;34m(\u001b[0m\u001b[0;34m\"test.txt\"\u001b[0m\u001b[0;34m,\u001b[0m\u001b[0;34m'w'\u001b[0m\u001b[0;34m)\u001b[0m  \u001b[0;31m# write in text mode\u001b[0m\u001b[0;34m\u001b[0m\u001b[0;34m\u001b[0m\u001b[0m\n\u001b[0;32m----> 3\u001b[0;31m \u001b[0mf\u001b[0m \u001b[0;34m=\u001b[0m \u001b[0mopen\u001b[0m\u001b[0;34m(\u001b[0m\u001b[0;34m\"img.bmp\"\u001b[0m\u001b[0;34m,\u001b[0m\u001b[0;34m'r+b'\u001b[0m\u001b[0;34m)\u001b[0m \u001b[0;31m# read and write in binary mode\u001b[0m\u001b[0;34m\u001b[0m\u001b[0;34m\u001b[0m\u001b[0m\n\u001b[0m",
            "\u001b[0;31mFileNotFoundError\u001b[0m: [Errno 2] No such file or directory: 'img.bmp'"
          ]
        }
      ]
    },
    {
      "cell_type": "markdown",
      "source": [
        "close a file:"
      ],
      "metadata": {
        "id": "kD_y2lVyg3tl"
      }
    },
    {
      "cell_type": "code",
      "source": [
        "f = open(\"test.txt\",encoding = 'utf-8')\n",
        "# perform file operations\n",
        "f.close()"
      ],
      "metadata": {
        "id": "Bkbsy90Eg5V8"
      },
      "execution_count": null,
      "outputs": []
    },
    {
      "cell_type": "markdown",
      "source": [
        "write to a file:"
      ],
      "metadata": {
        "id": "Q26MufZWg8L-"
      }
    },
    {
      "cell_type": "code",
      "source": [
        "with open(\"test.txt\",'w',encoding = 'utf-8') as f:\n",
        "   f.write(\"my first file\\n\")\n",
        "   f.write(\"This file\\n\\n\")\n",
        "   f.write(\"contains three lines\\n\")"
      ],
      "metadata": {
        "id": "TVM8pj3Mg-VM"
      },
      "execution_count": null,
      "outputs": []
    },
    {
      "cell_type": "markdown",
      "source": [
        "How to read files?"
      ],
      "metadata": {
        "id": "9BAJM5xHhQFq"
      }
    },
    {
      "cell_type": "code",
      "source": [
        "f = open(\"test.txt\",'r',encoding = 'utf-8')\n",
        "f.read(4)    # read the first 4 data"
      ],
      "metadata": {
        "colab": {
          "base_uri": "https://localhost:8080/",
          "height": 35
        },
        "id": "o5B9yFTEhN55",
        "outputId": "c549a86f-556b-4090-cd73-1dc0a2ee98dc"
      },
      "execution_count": null,
      "outputs": [
        {
          "output_type": "execute_result",
          "data": {
            "application/vnd.google.colaboratory.intrinsic+json": {
              "type": "string"
            },
            "text/plain": [
              "''"
            ]
          },
          "metadata": {},
          "execution_count": 58
        }
      ]
    },
    {
      "cell_type": "markdown",
      "source": [
        "## Python Directory"
      ],
      "metadata": {
        "id": "WtjfkdJkhW06"
      }
    },
    {
      "cell_type": "code",
      "source": [
        "import os\n",
        "\n",
        "os.getcwd()  // present working directory\n",
        "os.chdir('D:\\\\Hello') // Changing current directory to D:\\Hello\n",
        "os.listdir()  // list all sub directories and files in that path\n",
        "os.mkdir('test') // making a new directory test\n",
        "os.rename('test','tasty') // renaming the directory test to tasty\n",
        "os.remove('old.txt')  // deleting old.txt file"
      ],
      "metadata": {
        "colab": {
          "base_uri": "https://localhost:8080/",
          "height": 131
        },
        "id": "OE2Lwr8RhdMd",
        "outputId": "39a3604a-5fa9-4bd9-bdf4-75f170fdb466"
      },
      "execution_count": null,
      "outputs": [
        {
          "output_type": "error",
          "ename": "SyntaxError",
          "evalue": "ignored",
          "traceback": [
            "\u001b[0;36m  File \u001b[0;32m\"<ipython-input-59-d9a71c4b5d37>\"\u001b[0;36m, line \u001b[0;32m3\u001b[0m\n\u001b[0;31m    os.getcwd()  // present working directory\u001b[0m\n\u001b[0m                                  ^\u001b[0m\n\u001b[0;31mSyntaxError\u001b[0m\u001b[0;31m:\u001b[0m invalid syntax\n"
          ]
        }
      ]
    },
    {
      "cell_type": "markdown",
      "source": [
        "# Exception Handling"
      ],
      "metadata": {
        "id": "H9YdlY4jhlVG"
      }
    },
    {
      "cell_type": "code",
      "source": [
        "# import module sys to get the type of exception\n",
        "import sys\n",
        "\n",
        "randomList = ['a', 0, 2]\n",
        "\n",
        "for entry in randomList:\n",
        "    try:\n",
        "        print(\"The entry is\", entry)\n",
        "        r = 1/int(entry)\n",
        "        break\n",
        "    except:\n",
        "        print(\"Oops!\",sys.exc_info()[0],\"occurred.\")\n",
        "        print(\"Next entry.\")\n",
        "        print()\n",
        "print(\"The reciprocal of\",entry,\"is\",r)"
      ],
      "metadata": {
        "id": "kVe0AMPkhpHE",
        "outputId": "78a60793-6ed6-4612-c2ba-c8e8e6f52965",
        "colab": {
          "base_uri": "https://localhost:8080/"
        }
      },
      "execution_count": null,
      "outputs": [
        {
          "output_type": "stream",
          "name": "stdout",
          "text": [
            "The entry is a\n",
            "Oops! <class 'ValueError'> occurred.\n",
            "Next entry.\n",
            "\n",
            "The entry is 0\n",
            "Oops! <class 'ZeroDivisionError'> occurred.\n",
            "Next entry.\n",
            "\n",
            "The entry is 2\n",
            "The reciprocal of 2 is 0.5\n"
          ]
        }
      ]
    }
  ]
}