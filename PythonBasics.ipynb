{
  "nbformat": 4,
  "nbformat_minor": 0,
  "metadata": {
    "colab": {
      "name": "PythonBasics.ipynb",
      "provenance": [],
      "collapsed_sections": [],
      "include_colab_link": true
    },
    "kernelspec": {
      "name": "python3",
      "display_name": "Python 3"
    }
  },
  "cells": [
    {
      "cell_type": "markdown",
      "metadata": {
        "id": "view-in-github",
        "colab_type": "text"
      },
      "source": [
        "<a href=\"https://colab.research.google.com/github/wtkns/dx451/blob/main/PythonBasics.ipynb\" target=\"_parent\"><img src=\"https://colab.research.google.com/assets/colab-badge.svg\" alt=\"Open In Colab\"/></a>"
      ]
    },
    {
      "cell_type": "markdown",
      "metadata": {
        "id": "t33GbeEpc4Ct"
      },
      "source": [
        "# PYTHON BASICS"
      ]
    },
    {
      "cell_type": "markdown",
      "metadata": {
        "id": "TzhXPTs5dCVH"
      },
      "source": [
        "**1. Variables**"
      ]
    },
    {
      "cell_type": "code",
      "metadata": {
        "id": "dok8Y8iybWOX",
        "colab": {
          "base_uri": "https://localhost:8080/"
        },
        "outputId": "997075d3-d612-4ddc-9c43-f3ccf47a6b7f"
      },
      "source": [
        "#Variables are used to store data that can change\n",
        "#This is a comment, btw\n",
        "\n",
        "answer = 15\n",
        "\n",
        "#To find out what is stored in a variable, we call it by name\n",
        "answer\n",
        "\n",
        "#or use a print function\n",
        "print(answer)\n",
        "\n",
        "#We can store many different datatypes in python variables. We can change the value stored in it by assigning something different into it.\n",
        "solution = \"aha\"\n",
        "solution = 2.4\n",
        "solution = True\n",
        "\n",
        "#Once a value is in the variable, we can operate on it to change its value\n",
        "another_answer = 50\n",
        "another_answer = another_answer+10\n",
        "\n",
        "yet = \"test\"\n",
        "test = yet + \"10\"\n"
      ],
      "execution_count": 3,
      "outputs": [
        {
          "output_type": "stream",
          "name": "stdout",
          "text": [
            "15\n"
          ]
        }
      ]
    },
    {
      "cell_type": "code",
      "metadata": {
        "colab": {
          "base_uri": "https://localhost:8080/"
        },
        "id": "0fiiAu5Ne6tN",
        "outputId": "cee4aabf-029f-43d4-bcf3-972ae9b6ded4"
      },
      "source": [
        "#Variables can also be lists of data\n",
        "\n",
        "numbers = [12,18,3,894,13,69]\n",
        "print(numbers)\n",
        "\n",
        "#Once stored in a list, we can access these values by their index\n",
        "print(numbers[0])\n",
        "print(numbers[3])\n",
        "print(numbers[-1])\n",
        "\n",
        "#We can also add values to the list\n",
        "numbers.append(78)\n",
        "print(numbers)\n",
        "\n"
      ],
      "execution_count": null,
      "outputs": [
        {
          "output_type": "stream",
          "name": "stdout",
          "text": [
            "[12, 18, 3, 894, 13, 69]\n",
            "12\n",
            "894\n",
            "69\n",
            "[12, 18, 3, 894, 13, 69, 78]\n"
          ]
        }
      ]
    },
    {
      "cell_type": "code",
      "metadata": {
        "id": "Rhw6JdOnC8_h"
      },
      "source": [
        "#Python also has special lists called tuples\n",
        "ages = (23,56,19)\n",
        "\n",
        "#These operate the same way as lists, except their values cannot be changed/added/removed"
      ],
      "execution_count": null,
      "outputs": []
    },
    {
      "cell_type": "markdown",
      "metadata": {
        "id": "k45b3cNdnw06"
      },
      "source": [
        "**2. Import Statements**"
      ]
    },
    {
      "cell_type": "code",
      "metadata": {
        "colab": {
          "base_uri": "https://localhost:8080/"
        },
        "id": "0AY5siHTn4RQ",
        "outputId": "6e2f5a12-a704-44e1-d0ac-364729761aa6"
      },
      "source": [
        "#Python has many additional packages that provide functionality beyond its core. \n",
        "#We bring these into our code using import statements\n",
        "\n",
        "import random\n",
        "num = random.randint(1,100)\n",
        "print(num)"
      ],
      "execution_count": 11,
      "outputs": [
        {
          "output_type": "stream",
          "name": "stdout",
          "text": [
            "20\n"
          ]
        }
      ]
    },
    {
      "cell_type": "markdown",
      "metadata": {
        "id": "c0cmW_URgb64"
      },
      "source": [
        "**3. Conditionals**"
      ]
    },
    {
      "cell_type": "code",
      "metadata": {
        "colab": {
          "base_uri": "https://localhost:8080/"
        },
        "id": "fxc00jO8gpqU",
        "outputId": "c103df21-5ee4-4eca-d065-de2bf739c37e"
      },
      "source": [
        "#We use conditional statements to create branching structures in our code\n",
        "\n",
        "if num > 66:\n",
        "  print(\"high\")\n",
        "elif num > 33:\n",
        "  print (\"med\")\n",
        "else:\n",
        "  print(\"low\")\n",
        "\n",
        "\n"
      ],
      "execution_count": null,
      "outputs": [
        {
          "output_type": "stream",
          "name": "stdout",
          "text": [
            "high\n"
          ]
        }
      ]
    },
    {
      "cell_type": "code",
      "metadata": {
        "id": "kEqmEakzEX-G",
        "colab": {
          "base_uri": "https://localhost:8080/"
        },
        "outputId": "2029573f-74b8-4a3c-e0c1-c5c6ae266f61"
      },
      "source": [
        "#The statement that follows a conditional statement must always evaluate to either True or False.\n",
        "\n",
        "x = 9\n",
        "\n",
        "if x==10:\n",
        "  print(\"a\")\n",
        "\n",
        "if x != 10:\n",
        "  print(\"b\")\n",
        "\n",
        "if x is not 10:\n",
        "  print(\"c\")"
      ],
      "execution_count": null,
      "outputs": [
        {
          "output_type": "stream",
          "name": "stdout",
          "text": [
            "b\n",
            "c\n"
          ]
        }
      ]
    },
    {
      "cell_type": "markdown",
      "metadata": {
        "id": "DJRMDrfNqLRn"
      },
      "source": [
        "**4. Loops**"
      ]
    },
    {
      "cell_type": "code",
      "metadata": {
        "id": "rIaswBL0qUdT",
        "colab": {
          "base_uri": "https://localhost:8080/"
        },
        "outputId": "9fff5567-6191-4e4f-ef27-f53c33b39827"
      },
      "source": [
        "#We use repeat loops to execute statements multiple times\n",
        "\n",
        "for i in range(10):\n",
        "  print(i)\n",
        "\n",
        "j = 25\n",
        "while(j<30):\n",
        "  print(j)\n",
        "  j+=1"
      ],
      "execution_count": null,
      "outputs": [
        {
          "output_type": "stream",
          "name": "stdout",
          "text": [
            "0\n",
            "1\n",
            "2\n",
            "3\n",
            "4\n",
            "5\n",
            "6\n",
            "7\n",
            "8\n",
            "9\n",
            "25\n",
            "26\n",
            "27\n",
            "28\n",
            "29\n"
          ]
        }
      ]
    },
    {
      "cell_type": "markdown",
      "metadata": {
        "id": "zksS00cosAuo"
      },
      "source": [
        "**5. Functions**"
      ]
    },
    {
      "cell_type": "code",
      "metadata": {
        "colab": {
          "base_uri": "https://localhost:8080/"
        },
        "id": "W6Nq-bx7sHGy",
        "outputId": "6c9e2a96-e3de-45a2-a965-6877509b2d08"
      },
      "source": [
        "#Where we want to reuse blocks of code multiple times, we use functions\n",
        "\n",
        "def aFunction():\n",
        "  print(\"I am a function\")\n",
        "\n",
        "aFunction()\n",
        "\n",
        "def aReturnFunction():\n",
        "  return(\"I am a return function\")\n",
        "\n",
        "print(aReturnFunction())\n",
        "\n",
        "def average(a,b,c):\n",
        "  return (a+b+c)/3\n",
        "\n",
        "print(average(43,23,9))\n",
        "\n",
        "def averageList(nums):\n",
        "  total = 0\n",
        "  for n in nums:\n",
        "    total = total+n\n",
        "  return total/len(nums)\n",
        "\n",
        "print(averageList([3,5,9,11,78]))"
      ],
      "execution_count": null,
      "outputs": [
        {
          "output_type": "stream",
          "name": "stdout",
          "text": [
            "I am a function\n",
            "I am a return function\n",
            "25.0\n",
            "21.2\n"
          ]
        }
      ]
    }
  ]
}